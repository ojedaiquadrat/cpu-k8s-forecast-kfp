{
 "cells": [
  {
   "cell_type": "markdown",
   "id": "4dbc68a5-6ef4-47cb-a7bf-5fcc8dd78516",
   "metadata": {},
   "source": [
    "# Producer- Inference-Consumer"
   ]
  },
  {
   "cell_type": "markdown",
   "id": "50187cd1-288d-428f-8bb4-7d8063075776",
   "metadata": {},
   "source": [
    "he logic must be in a function, and all inputs must be standard Python arguments (not environment variables).\n",
    "\n",
    "No interactive input() or blocking user interaction.\n",
    "\n",
    "You should use the kfp.components.create_component_from_func or build a Docker container with your code."
   ]
  },
  {
   "cell_type": "code",
   "execution_count": null,
   "id": "cdae3dc5-5785-46cc-82c5-c6d67af893bc",
   "metadata": {},
   "outputs": [],
   "source": []
  }
 ],
 "metadata": {
  "kernelspec": {
   "display_name": "Python 3 (ipykernel)",
   "language": "python",
   "name": "python3"
  },
  "language_info": {
   "codemirror_mode": {
    "name": "ipython",
    "version": 3
   },
   "file_extension": ".py",
   "mimetype": "text/x-python",
   "name": "python",
   "nbconvert_exporter": "python",
   "pygments_lexer": "ipython3",
   "version": "3.11.11"
  }
 },
 "nbformat": 4,
 "nbformat_minor": 5
}
