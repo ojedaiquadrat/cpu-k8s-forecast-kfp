{
 "cells": [
  {
   "cell_type": "markdown",
   "id": "d5db65d8-5bcf-429e-aa42-db0c6183db0e",
   "metadata": {},
   "source": [
    "# 1. Exploring the MlFlow Storage to deploy the models"
   ]
  },
  {
   "cell_type": "code",
   "execution_count": 3,
   "id": "34884aa6-73a9-416d-a1cc-6f80574e62f6",
   "metadata": {},
   "outputs": [
    {
     "name": "stdout",
     "output_type": "stream",
     "text": [
      "mlflow-artifacts:/27/1bd475a443f94ccaa2085c1c6279216e/artifacts/2025-09-09-14:56:56-hpo-cpu-node-1-pct-model\n"
     ]
    }
   ],
   "source": [
    "import mlflow\n",
    "from mlflow.tracking import MlflowClient\n",
    "\n",
    "mlflow.set_tracking_uri(\"http://sunrise-mlflow-tracking.mlflow.svc.cluster.local:5080\")\n",
    "client = MlflowClient()\n",
    "\n",
    "mv = client.get_model_version(\"cpu-pct-test-5\", \"1\")   # <- pick your model/version\n",
    "print(mv.source)  # e.g. s3://mlflow/27/3e0850.../artifacts/model\n"
   ]
  },
  {
   "cell_type": "markdown",
   "id": "3e9f400f-abab-4b1b-b85a-54e2439575f0",
   "metadata": {},
   "source": [
    "### Minio fro Mlflow credential"
   ]
  },
  {
   "cell_type": "markdown",
   "id": "4893968d-fbeb-4c19-b5a5-2e6842d63d4a",
   "metadata": {
    "jp-MarkdownHeadingCollapsed": true
   },
   "source": [
    "kubectl -n mlflow get secrets | grep -i minio\n",
    "\n",
    "# Example for Bitnami chart:\n",
    "kubectl -n mlflow get secret sunrise-minio -o jsonpath='{.data.root-user}' | base64 -d; echo\n",
    "kubectl -n mlflow get secret sunrise-minio -o jsonpath='{.data.root-password}' | base64 -d; echo\n",
    "\n",
    "'''\n",
    "\n",
    "sunrise-minio                   Opaque               2      123d\n",
    "\n",
    "admin                            user\n",
    "\n",
    "ySO5ISk7Eq                       password\n",
    "\n",
    "\n",
    "'''"
   ]
  },
  {
   "cell_type": "markdown",
   "id": "a44e91f0-59bc-4a8e-bbcf-5784ac64f56e",
   "metadata": {},
   "source": [
    "# 2. KServe\n"
   ]
  },
  {
   "cell_type": "raw",
   "id": "a8dea189-4b61-472a-8d51-ba3a1d5f966c",
   "metadata": {},
   "source": [
    "eduardo@iquPC:training-pipeline$ # Show all containers & images in the KServe controller deployment\n",
    "kubectl -n kserve get deploy kserve-controller-manager \\\n",
    "  -o jsonpath='{range .spec.template.spec.containers[*]}{.name}{\" => \"}{.image}{\"\\n\"}{end}'\n",
    "\n",
    "# Print only the manager container image (this is your KServe version tag)\n",
    "kubectl -n kserve get deploy kserve-controller-manager \\\n",
    "  -o jsonpath='{.spec.template.spec.containers[?(@.name==\"manager\")].image}{\"\\n\"}'\n",
    "\n",
    "# Just the tag (strip repo/name):\n",
    "kubectl -n kserve get deploy kserve-controller-manager \\\n",
    "  -o jsonpath='{.spec.template.spec.containers[?(@.name==\"manager\")].image}' \\\n",
    "| sed -E 's#.*:([^:@]+)(@sha.*)?$#\\1#'\n",
    "kube-rbac-proxy => quay.io/brancz/kube-rbac-proxy:v0.18.0\n",
    "manager => kserve/kserve-controller:v0.15.0\n",
    "kserve/kserve-controller:v0.15.0\n"
   ]
  },
  {
   "cell_type": "markdown",
   "id": "47a1ceca-d247-47d7-a51a-68bfdc968d32",
   "metadata": {
    "jp-MarkdownHeadingCollapsed": true
   },
   "source": [
    "### K server issue #1"
   ]
  },
  {
   "cell_type": "markdown",
   "id": "79ed5612-eed3-49e3-8de4-69fa05b7466c",
   "metadata": {},
   "source": [
    "Bingo — the ClusterRoleBindings point to the wrong namespace (kubeflow) for the kserve-controller-manager SA. That’s why every can-i came back no and the controller can’t sync caches.\n",
    "\n",
    "Let’s fix the bindings so they reference the SA in kserve.\n",
    "\n",
    "1) Recreate the two bindings with the correct subject\n",
    "\n",
    "(This is safer than JSON-patching indexes; it idempotently overwrites them.)\n",
    "\n",
    "\n",
    "**Manager -> needs cluster-wide perms**\n",
    "kubectl create clusterrolebinding kserve-manager-rolebinding \\\n",
    "  --clusterrole=kserve-manager-role \\\n",
    "  --serviceaccount=kserve:kserve-controller-manager \\\n",
    "  -o yaml --dry-run=client | kubectl apply -f -\n",
    "\n",
    "**Proxy -> used by kube-rbac-proxy sidecar**\n",
    "kubectl create clusterrolebinding kserve-proxy-rolebinding \\\n",
    "  --clusterrole=kserve-proxy-role \\\n",
    "  --serviceaccount=kserve:kserve-controller-manager \\\n",
    "  -o yaml --dry-run=client | kubectl apply -f -\n",
    "\n",
    "\n",
    "kubectl -n kserve rollout restart deploy/kserve-controller-manager\n",
    "kubectl -n kserve get pods -w\n",
    "\n",
    "**then:**\n",
    "kubectl -n kserve logs deploy/kserve-controller-manager -c manager --tail=200\n",
    "\n",
    "\n",
    "for r in \\\n",
    "  \"services\" \\\n",
    "  \"deployments.apps\" \\\n",
    "  \"virtualservices.networking.istio.io\" \\\n",
    "  \"httproutes.gateway.networking.k8s.io\" \\\n",
    "  \"inferenceservices.serving.kserve.io\" \\\n",
    "  \"trainedmodels.serving.kserve.io\" \\\n",
    "  \"inferencegraphs.serving.kserve.io\"\n",
    "do\n",
    "  printf \"%-45s \" \"$r\"; \\\n",
    "  kubectl auth can-i --as=system:serviceaccount:kserve:kserve-controller-manager list \"$r\" --all-namespaces\n",
    "done\n",
    "    \n",
    "######\n"
   ]
  },
  {
   "cell_type": "markdown",
   "id": "616ea53c-fc4e-4401-b457-e93084d5a21b",
   "metadata": {},
   "source": [
    "### #issue 2\n",
    "\n",
    "this check the problems if it is there becasue the user \"system:serviceaccount:kubeflow:kserve-controller-manager\" cannot get resource \"serviceaccounts\" in the namespace \"lstm-iqu\"\n",
    "* kubectl -n kubeflow logs deploy/kserve-controller-manager -c manager | grep -i credential^C\n",
    "* kubectl -n kubeflow get cm inferenceservice-config -o yaml | grep -A5 credentials\n",
    "\n",
    "note: Because the KServe controller can’t read your ServiceAccount in lstm-iqu, it fails to inject S3 env vars into the storage-initializer, so you get NoCredentialsError"
   ]
  },
  {
   "cell_type": "markdown",
   "id": "b16364d1-d2c8-437e-afe7-1dd23583b5d6",
   "metadata": {},
   "source": [
    "The kserver cannot inject the secrets credenatial and service account in the pods"
   ]
  },
  {
   "cell_type": "code",
   "execution_count": 8,
   "id": "690583f3-00bc-448b-9c08-d7f785f801f4",
   "metadata": {},
   "outputs": [
    {
     "name": "stdout",
     "output_type": "stream",
     "text": [
      "2.8.0+cpu\n"
     ]
    }
   ],
   "source": [
    "import torch\n",
    "print(torch.__version__)"
   ]
  },
  {
   "cell_type": "markdown",
   "id": "e3797ec5-5cd0-4e51-869c-74d178197714",
   "metadata": {},
   "source": [
    "#### CODE"
   ]
  },
  {
   "cell_type": "code",
   "execution_count": 11,
   "id": "81e795b6-aac1-4f15-b604-7898937dbeb3",
   "metadata": {},
   "outputs": [],
   "source": [
    "from kubernetes import client\n",
    "from kserve import KServeClient\n",
    "from kserve import constants\n",
    "from kserve import V1beta1InferenceService, V1beta1InferenceServiceSpec, V1beta1PredictorSpec, V1beta1ModelSpec\n",
    "\n",
    "namespace = \"lstm-iqu\"\n",
    "name = \"inference-serving-kserve-cpu\"\n",
    "service_account = \"sa-private-mlflow\"\n",
    "storage_uri = \"s3://mlflow/27/7b7f44e59b8f4f348ec18bb0ca7da0c4/artifacts/model\"\n",
    "\n",
    "# Important: model_format is a dict with \"name\" (for MLflow)\n",
    "model_spec = V1beta1ModelSpec(\n",
    "    model_format={\"name\": \"mlflow\"},\n",
    "    storage_uri=storage_uri,\n",
    "    runtime=\"kserve-mlserver\"\n",
    ")\n",
    "\n",
    "predictor_spec = V1beta1PredictorSpec(\n",
    "    service_account_name=service_account,\n",
    "    model=model_spec,\n",
    ")\n",
    "\n",
    "isvc = V1beta1InferenceService(\n",
    "    api_version=\"serving.kserve.io/v1beta1\",\n",
    "    kind=\"InferenceService\",\n",
    "    metadata=client.V1ObjectMeta(\n",
    "        name=name,\n",
    "        namespace=namespace\n",
    "    ),\n",
    "    spec=V1beta1InferenceServiceSpec(\n",
    "        predictor=predictor_spec\n",
    "    )\n",
    ")\n",
    "\n",
    "kserve_client = KServeClient()\n",
    "kserve_client.create(isvc, namespace=namespace)\n",
    "\n",
    "# Optionally, wait for readiness\n",
    "kserve_client.wait_isvc_ready(name, namespace=namespace)\n"
   ]
  },
  {
   "cell_type": "markdown",
   "id": "a32a54fc-5de7-4670-8175-3f8e6a0edca8",
   "metadata": {},
   "source": [
    "# Component working with a specific uri"
   ]
  },
  {
   "cell_type": "code",
   "execution_count": 12,
   "id": "e6c2b07c-0517-45f6-b15b-ce73cb8c2ea3",
   "metadata": {},
   "outputs": [
    {
     "ename": "NameError",
     "evalue": "name 'dsl' is not defined",
     "output_type": "error",
     "traceback": [
      "\u001b[0;31m---------------------------------------------------------------------------\u001b[0m",
      "\u001b[0;31mNameError\u001b[0m                                 Traceback (most recent call last)",
      "Cell \u001b[0;32mIn[12], line 1\u001b[0m\n\u001b[0;32m----> 1\u001b[0m \u001b[38;5;129m@dsl\u001b[39m\u001b[38;5;241m.\u001b[39mcomponent(\n\u001b[1;32m      2\u001b[0m     base_image\u001b[38;5;241m=\u001b[39m\u001b[38;5;124m\"\u001b[39m\u001b[38;5;124mdocker.io/jhofydu/kpf-kserve:V1.0.0\u001b[39m\u001b[38;5;124m\"\u001b[39m,\n\u001b[1;32m      3\u001b[0m     packages_to_install\u001b[38;5;241m=\u001b[39m[\u001b[38;5;124m\"\u001b[39m\u001b[38;5;124mkserve==0.15.0\u001b[39m\u001b[38;5;124m\"\u001b[39m, \u001b[38;5;124m\"\u001b[39m\u001b[38;5;124mkubernetes\u001b[39m\u001b[38;5;124m\"\u001b[39m]\n\u001b[1;32m      4\u001b[0m )\n\u001b[1;32m      5\u001b[0m \u001b[38;5;28;01mdef\u001b[39;00m\u001b[38;5;250m \u001b[39m\u001b[38;5;21mdeploying_model\u001b[39m( ):\n\u001b[1;32m      7\u001b[0m     \u001b[38;5;28;01mfrom\u001b[39;00m\u001b[38;5;250m \u001b[39m\u001b[38;5;21;01mkubernetes\u001b[39;00m\u001b[38;5;250m \u001b[39m\u001b[38;5;28;01mimport\u001b[39;00m client\n\u001b[1;32m      8\u001b[0m     \u001b[38;5;28;01mfrom\u001b[39;00m\u001b[38;5;250m \u001b[39m\u001b[38;5;21;01mkserve\u001b[39;00m\u001b[38;5;250m \u001b[39m\u001b[38;5;28;01mimport\u001b[39;00m KServeClient\n",
      "\u001b[0;31mNameError\u001b[0m: name 'dsl' is not defined"
     ]
    }
   ],
   "source": [
    "@dsl.component(\n",
    "    base_image=\"docker.io/jhofydu/kpf-kserve:V1.0.0\",\n",
    "    packages_to_install=[\"kserve==0.15.0\", \"kubernetes\"]\n",
    ")\n",
    "def deploying_model( ):\n",
    "    \n",
    "    from kubernetes import client\n",
    "    from kserve import KServeClient\n",
    "    from kserve import constants\n",
    "    from kserve import V1beta1InferenceService, V1beta1InferenceServiceSpec, V1beta1PredictorSpec, V1beta1ModelSpec\n",
    "    \n",
    "    namespace = \"lstm-iqu\"\n",
    "    name = \"inference-serving-kserve-cpu\"\n",
    "    service_account = \"sa-private-mlflow\"\n",
    "    storage_uri = \"s3://mlflow/27/7b7f44e59b8f4f348ec18bb0ca7da0c4/artifacts/model\"\n",
    "    \n",
    "    # Important: model_format is a dict with \"name\" (for MLflow)\n",
    "    model_spec = V1beta1ModelSpec(\n",
    "        model_format={\"name\": \"mlflow\"},\n",
    "        storage_uri=storage_uri,\n",
    "        runtime=\"kserve-mlserver\"\n",
    "    )\n",
    "    \n",
    "    predictor_spec = V1beta1PredictorSpec(\n",
    "        service_account_name=service_account,\n",
    "        model=model_spec,\n",
    "    )\n",
    "    \n",
    "    isvc = V1beta1InferenceService(\n",
    "        api_version=\"serving.kserve.io/v1beta1\",\n",
    "        kind=\"InferenceService\",\n",
    "        metadata=client.V1ObjectMeta(\n",
    "            name=name,\n",
    "            namespace=namespace\n",
    "        ),\n",
    "        spec=V1beta1InferenceServiceSpec(\n",
    "            predictor=predictor_spec\n",
    "        )\n",
    "    )\n",
    "    \n",
    "    kserve_client = KServeClient()\n",
    "    kserve_client.create(isvc, namespace=namespace)\n",
    "\n",
    "    # Optionally, wait for readiness\n",
    "    kserve_client.wait_isvc_ready(name, namespace=namespace)\n"
   ]
  },
  {
   "cell_type": "code",
   "execution_count": null,
   "id": "a67c6e75-4d81-4ae1-a4f1-8a9f0f834342",
   "metadata": {},
   "outputs": [],
   "source": []
  }
 ],
 "metadata": {
  "kernelspec": {
   "display_name": "Python 3 (ipykernel)",
   "language": "python",
   "name": "python3"
  },
  "language_info": {
   "codemirror_mode": {
    "name": "ipython",
    "version": 3
   },
   "file_extension": ".py",
   "mimetype": "text/x-python",
   "name": "python",
   "nbconvert_exporter": "python",
   "pygments_lexer": "ipython3",
   "version": "3.11.11"
  }
 },
 "nbformat": 4,
 "nbformat_minor": 5
}
