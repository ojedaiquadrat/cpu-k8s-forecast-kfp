{
 "cells": [
  {
   "cell_type": "code",
   "execution_count": 4,
   "id": "00d4054a-a2a4-420a-9042-e246a92a8fc1",
   "metadata": {},
   "outputs": [
    {
     "name": "stderr",
     "output_type": "stream",
     "text": [
      "2025/09/04 09:31:11 INFO mlflow.tracking.fluent: Experiment with name 'k8s-cpu-forecasting' does not exist. Creating a new experiment.\n"
     ]
    }
   ],
   "source": [
    "import mlflow\n",
    "from mlflow.tracking import MlflowClient\n",
    "# ------------------------\n",
    "# Configuration for MLflow Tracking\n",
    "# ------------------------\n",
    "TRACKING_URI = \" http://sunrise-mlflow-tracking.mlflow.svc.cluster.local:5080\"\n",
    "EXPERIMENT_NAME = \"k8s-cpu-forecasting\"\n",
    "REGISTERED_MODEL_NAME = \"cpu-pct\"\n",
    "\n",
    "mlflow.set_tracking_uri(TRACKING_URI)\n",
    "mlflow.set_experiment(EXPERIMENT_NAME)\n",
    "client= MlflowClient()"
   ]
  },
  {
   "cell_type": "code",
   "execution_count": null,
   "id": "daab1ebe-d812-41ca-89a3-4b54a20e7dc9",
   "metadata": {},
   "outputs": [],
   "source": []
  }
 ],
 "metadata": {
  "kernelspec": {
   "display_name": "Python 3 (ipykernel)",
   "language": "python",
   "name": "python3"
  },
  "language_info": {
   "codemirror_mode": {
    "name": "ipython",
    "version": 3
   },
   "file_extension": ".py",
   "mimetype": "text/x-python",
   "name": "python",
   "nbconvert_exporter": "python",
   "pygments_lexer": "ipython3",
   "version": "3.11.11"
  }
 },
 "nbformat": 4,
 "nbformat_minor": 5
}
