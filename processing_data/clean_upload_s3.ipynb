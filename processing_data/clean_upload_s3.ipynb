{
 "cells": [
  {
   "cell_type": "code",
   "execution_count": 75,
   "id": "0f1c4769-6331-442d-908e-91b624393f8b",
   "metadata": {},
   "outputs": [
    {
     "name": "stdout",
     "output_type": "stream",
     "text": [
      "pandas: 2.2.3\n",
      "numpy: 1.26.4\n",
      "torch: 2.8.0+cpu\n"
     ]
    }
   ],
   "source": [
    "import pandas as pd\n",
    "import numpy as np\n",
    "import torch\n",
    "import re\n",
    "from minio import Minio\n",
    "from minio.error import S3Error\n",
    "import os\n",
    "\n",
    "print(\"pandas: \" + pd.__version__)\n",
    "print(\"numpy: \" + np.__version__)\n",
    "print(\"torch: \" +torch.__version__)"
   ]
  },
  {
   "cell_type": "code",
   "execution_count": 76,
   "id": "83758bf4-7902-4b7b-a00a-bfe824e726f0",
   "metadata": {},
   "outputs": [],
   "source": [
    "dataset_path = \"/home/jovyan/kpf_sunrise/data/preprocessed-k8s-dataset.csv\"\n",
    "out_path = \"/home/jovyan/kpf_sunrise/data/prec-pct-k8s-dataset.csv\""
   ]
  },
  {
   "cell_type": "code",
   "execution_count": 77,
   "id": "74f54409-2fb1-4559-b733-04a34cf1d22e",
   "metadata": {},
   "outputs": [],
   "source": [
    "df = pd.read_csv(dataset_path, parse_dates=[\"timestamp\"])\n",
    "df.set_index(\"timestamp\", inplace=True)"
   ]
  },
  {
   "cell_type": "code",
   "execution_count": 78,
   "id": "a72bf16a-5ea7-4724-be34-1574fb6aec83",
   "metadata": {},
   "outputs": [],
   "source": [
    "# Keep only *_cpu_pct and *_mem_pct (or *_memory_pct) columns\n",
    "pattern = re.compile(r\"(?:cpu|mem(?:ory)?)_pct$\", re.IGNORECASE)\n",
    "cols_to_keep = [c for c in df.columns if pattern.search(c)]\n",
    "df_pct = df[cols_to_keep]\n",
    "# Round to nearest integer and cast to int\n",
    "df_pct = df_pct.round().astype(int)\n"
   ]
  },
  {
   "cell_type": "code",
   "execution_count": 79,
   "id": "c7cca9e6-33d8-4785-8dc2-6bbe9c9b45e4",
   "metadata": {},
   "outputs": [
    {
     "name": "stdout",
     "output_type": "stream",
     "text": [
      "Saved to /home/jovyan/kpf_sunrise/data/prec-pct-k8s-dataset.csv\n"
     ]
    }
   ],
   "source": [
    "# Save new dataset locally\n",
    "df_pct.to_csv(out_path)\n",
    "print(f\"Saved to {out_path}\")"
   ]
  },
  {
   "cell_type": "code",
   "execution_count": 80,
   "id": "d170384a-3d11-46a5-800a-59253537dbe3",
   "metadata": {},
   "outputs": [
    {
     "name": "stdout",
     "output_type": "stream",
     "text": [
      "Requirement already satisfied: minio in /opt/conda/lib/python3.11/site-packages (7.2.16)\n",
      "Requirement already satisfied: argon2-cffi in /opt/conda/lib/python3.11/site-packages (from minio) (23.1.0)\n",
      "Requirement already satisfied: certifi in /opt/conda/lib/python3.11/site-packages (from minio) (2025.8.3)\n",
      "Requirement already satisfied: pycryptodome in /opt/conda/lib/python3.11/site-packages (from minio) (3.23.0)\n",
      "Requirement already satisfied: typing-extensions in /opt/conda/lib/python3.11/site-packages (from minio) (4.12.2)\n",
      "Requirement already satisfied: urllib3 in /opt/conda/lib/python3.11/site-packages (from minio) (1.26.20)\n",
      "Requirement already satisfied: argon2-cffi-bindings in /opt/conda/lib/python3.11/site-packages (from argon2-cffi->minio) (21.2.0)\n",
      "Requirement already satisfied: cffi>=1.0.1 in /opt/conda/lib/python3.11/site-packages (from argon2-cffi-bindings->argon2-cffi->minio) (1.17.1)\n",
      "Requirement already satisfied: pycparser in /opt/conda/lib/python3.11/site-packages (from cffi>=1.0.1->argon2-cffi-bindings->argon2-cffi->minio) (2.22)\n"
     ]
    }
   ],
   "source": [
    "#upload and stored in Minio (kfp)\n",
    "#install minio\n",
    "!pip install minio\n"
   ]
  },
  {
   "cell_type": "code",
   "execution_count": 81,
   "id": "9c269918-64a8-41ad-8dfd-123a46dcbfcf",
   "metadata": {},
   "outputs": [],
   "source": [
    "# Connect to MinIO\n",
    "minio_client = Minio(\n",
    "    \"minio-service.kubeflow.svc.cluster.local:9000\",\n",
    "    access_key=\"minio\",\n",
    "    secret_key=\"minio123\",\n",
    "    secure=False,\n",
    ")\n"
   ]
  },
  {
   "cell_type": "code",
   "execution_count": 82,
   "id": "4b374c96-4ee0-469d-ac1e-9c2f8b0c42a6",
   "metadata": {},
   "outputs": [
    {
     "name": "stdout",
     "output_type": "stream",
     "text": [
      "Bucket \u001b[1mk8s-resources-forecast\u001b[0m created.\n",
      "\n",
      "\u001b[1mAvailable buckets:\u001b[0m\n",
      " * k8s-resources-forecast\n",
      " * mlpipeline\n"
     ]
    }
   ],
   "source": [
    "# Create the bucket to store the data\n",
    "\n",
    "bucket_name = \"k8s-resources-forecast\"\n",
    "\n",
    "if minio_client.bucket_exists(bucket_name):\n",
    "    print(f\"Bucket \\033[1m{bucket_name}\\033[0m already exists.\\n\")\n",
    "else:\n",
    "    minio_client.make_bucket(bucket_name)\n",
    "    print(f\"Bucket \\033[1m{bucket_name}\\033[0m created.\\n\")\n",
    "\n",
    "print(\"\\033[1mAvailable buckets:\\033[0m\")\n",
    "for b in minio_client.list_buckets():\n",
    "    print(\" * \" + b.name)"
   ]
  },
  {
   "cell_type": "code",
   "execution_count": 83,
   "id": "5e77579f-3af1-45b5-b0e6-745eb4e854c2",
   "metadata": {},
   "outputs": [
    {
     "name": "stdout",
     "output_type": "stream",
     "text": [
      "Uploaded: preprocessed-k8s-dataset.csv -> s3://k8s-resources-forecast/data/k8s-preprocessed/preprocessed-k8s-dataset.csv\n",
      "Uploaded: prec-pct-k8s-dataset.csv -> s3://k8s-resources-forecast/data/k8s-preprocessed/prec-pct-k8s-dataset.csv\n",
      "All files uploaded.\n"
     ]
    }
   ],
   "source": [
    "# Upload the files to Minio\n",
    "\n",
    "\n",
    "local_folder = \"/home/jovyan/kpf_sunrise/data\"\n",
    "bucket_name = \"k8s-resources-forecast\"\n",
    "remote_prefix = \"data/k8s-preprocessed/\"\n",
    "\n",
    "# Ensure the bucket exists\n",
    "if not minio_client.bucket_exists(bucket_name):\n",
    "    minio_client.make_bucket(bucket_name)\n",
    "\n",
    "# Upload all files in the folder\n",
    "for fname in os.listdir(local_folder):\n",
    "    local_path = os.path.join(local_folder, fname)\n",
    "    if os.path.isfile(local_path):\n",
    "        remote_path = f\"{remote_prefix}{fname}\"\n",
    "        minio_client.fput_object(bucket_name, remote_path, local_path)\n",
    "        print(f\"Uploaded: {fname} -> s3://{bucket_name}/{remote_path}\")\n",
    "\n",
    "print(\"All files uploaded.\")\n"
   ]
  },
  {
   "cell_type": "markdown",
   "id": "07304e23-f599-4cf8-842c-3f7e480f1606",
   "metadata": {},
   "source": [
    "# No Run Delete The bucket"
   ]
  },
  {
   "cell_type": "code",
   "execution_count": 74,
   "id": "e52a85cf-1904-47f2-9e34-fbb82d1f0e6b",
   "metadata": {},
   "outputs": [
    {
     "name": "stdout",
     "output_type": "stream",
     "text": [
      "Bucket 'k8s-resources-forecast' deleted.\n",
      "\u001b[1mAvailable buckets:\u001b[0m\n",
      " * mlpipeline\n"
     ]
    }
   ],
   "source": [
    "bucket_name = \"k8s-resources-forecast\"\n",
    "\n",
    "# List all objects in the bucket and remove them\n",
    "objects_to_delete = minio_client.list_objects(bucket_name, recursive=True)\n",
    "for obj in objects_to_delete:\n",
    "    minio_client.remove_object(bucket_name, obj.object_name)\n",
    "\n",
    "# Now remove the bucket\n",
    "minio_client.remove_bucket(bucket_name)\n",
    "print(f\"Bucket '{bucket_name}' deleted.\")\n",
    "\n",
    "print(\"\\033[1mAvailable buckets:\\033[0m\")\n",
    "for b in minio_client.list_buckets():\n",
    "    print(\" * \" + b.name)"
   ]
  },
  {
   "cell_type": "code",
   "execution_count": null,
   "id": "c70a7d10-1a0f-47ac-8a00-2c6edbf5d836",
   "metadata": {},
   "outputs": [],
   "source": []
  }
 ],
 "metadata": {
  "kernelspec": {
   "display_name": "Python 3 (ipykernel)",
   "language": "python",
   "name": "python3"
  },
  "language_info": {
   "codemirror_mode": {
    "name": "ipython",
    "version": 3
   },
   "file_extension": ".py",
   "mimetype": "text/x-python",
   "name": "python",
   "nbconvert_exporter": "python",
   "pygments_lexer": "ipython3",
   "version": "3.11.11"
  }
 },
 "nbformat": 4,
 "nbformat_minor": 5
}
